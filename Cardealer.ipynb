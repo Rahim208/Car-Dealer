{
 "cells": [
  {
   "cell_type": "code",
   "execution_count": 1,
   "id": "cdbdebd6-c502-4f20-bf8c-25a2ac85c9e3",
   "metadata": {},
   "outputs": [
    {
     "name": "stdout",
     "output_type": "stream",
     "text": [
      "welcome to YM Car Dealers\n"
     ]
    },
    {
     "name": "stdin",
     "output_type": "stream",
     "text": [
      "which company car do you want to buy? \n",
      "a=Honda \n",
      "b=Toyota \n",
      "c=Suzuki \n",
      "d=Nissan b\n",
      "which Toyota car are you interested to buy? \n",
      "a=Corolla \n",
      "b=Yaris \n",
      "c=Aqua \n",
      "d=Vitz a\n"
     ]
    },
    {
     "name": "stdout",
     "output_type": "stream",
     "text": [
      "have your Corolla\n"
     ]
    },
    {
     "name": "stdin",
     "output_type": "stream",
     "text": [
      "Are you satisfied with the car? (y/n) n\n"
     ]
    },
    {
     "name": "stdout",
     "output_type": "stream",
     "text": [
      "ok then, let me know which car do you want!\n"
     ]
    },
    {
     "name": "stdin",
     "output_type": "stream",
     "text": [
      "which company car do you want to buy? \n",
      "a=Honda \n",
      "b=Toyota \n",
      "c=Suzuki \n",
      "d=Nissan a\n",
      "which Honda car are you interested to buy? \n",
      "a=Civic \n",
      "b=City \n",
      "c=Vezel \n",
      "d=CRZ a\n"
     ]
    },
    {
     "name": "stdout",
     "output_type": "stream",
     "text": [
      "have your Civic\n"
     ]
    },
    {
     "name": "stdin",
     "output_type": "stream",
     "text": [
      "Are you satisfied with the car? (y/n) y\n"
     ]
    },
    {
     "name": "stdout",
     "output_type": "stream",
     "text": [
      "Thanks for buying the car!\n"
     ]
    }
   ],
   "source": [
    "print(\"welcome to YM Car Dealers\")\n",
    "\n",
    "while True:\n",
    "    company=input(\"which company car do you want to buy? \\na=Honda \\nb=Toyota \\nc=Suzuki \\nd=Nissan\")\n",
    "    if company==\"a\":\n",
    "        Honda=input(\"which Honda car are you interested to buy? \\na=Civic \\nb=City \\nc=Vezel \\nd=CRZ\")\n",
    "        if Honda==\"a\":\n",
    "            print(\"have your Civic\")\n",
    "            rerun=input(\"Are you satisfied with the car? (y/n)\").lower()\n",
    "            if rerun==\"y\":\n",
    "                print(\"Thanks for buying the car!\")\n",
    "                break\n",
    "            else:\n",
    "                print(\"ok then, let me know which car do you want!\")\n",
    "        elif Honda==\"b\":\n",
    "            print(\"have your City\")\n",
    "            rerun=input(\"Are you satisfied with the car? (y/n)\").lower()\n",
    "            if rerun==\"y\":\n",
    "                print(\"Thanks for buying the car!\")\n",
    "                break\n",
    "            else:\n",
    "                print(\"ok then, let me know which car do you want!\")\n",
    "        elif Honda==\"c\":\n",
    "            print(\"have your Vezel\")\n",
    "            rerun=input(\"Are you satisfied with the car? (y/n)\").lower()\n",
    "            if rerun==\"y\":\n",
    "                print(\"Thanks for buying the car!\")\n",
    "                break\n",
    "            else:\n",
    "                print(\"ok then, let me know which car do you want!\")\n",
    "        elif Honda==\"d\":\n",
    "            print(\"hae your CRZ\")\n",
    "            rerun=input(\"Are you satisfied with the car? (y/n)\").lower()\n",
    "            if rerun==\"y\":\n",
    "                print(\"Thanks for buying the car!\")\n",
    "                break\n",
    "            else:\n",
    "                print(\"ok then, let me know which car do you want!\")\n",
    "        else:\n",
    "            print(\"invalid input\")\n",
    "    elif company==\"b\":\n",
    "        Toyota=input(\"which Toyota car are you interested to buy? \\na=Corolla \\nb=Yaris \\nc=Aqua \\nd=Vitz\")\n",
    "        if Toyota==\"a\":\n",
    "            print(\"have your Corolla\")\n",
    "            rerun=input(\"Are you satisfied with the car? (y/n)\").lower()\n",
    "            if rerun==\"y\":\n",
    "                print(\"Thanks for buying the car!\")\n",
    "                break\n",
    "            else:\n",
    "                print(\"ok then, let me know which car do you want!\")\n",
    "        elif Toyota==\"b\":\n",
    "            print(\"have your Yaris\")\n",
    "            rerun=input(\"Are you satisfied with the car? (y/n)\").lower()\n",
    "            if rerun==\"y\":\n",
    "                print(\"Thanks for buying the car!\")\n",
    "                break\n",
    "            else:\n",
    "                print(\"ok then, let me know which car do you want!\")\n",
    "        elif Toyota==\"c\":\n",
    "            print(\"have your Aqua\")\n",
    "            rerun=input(\"Are you satisfied with the car? (y/n)\").lower()\n",
    "            if rerun==\"y\":\n",
    "                print(\"Thanks for buying the car!\")\n",
    "                break\n",
    "            else:\n",
    "                print(\"ok then, let me know which car do you want!\")\n",
    "        elif Toyota==\"d\":\n",
    "            print(\"have your Vitz\")\n",
    "        else:\n",
    "            print(\"invalid input\")\n",
    "    elif company==\"c\":\n",
    "        Suzuki=input(\"which Suzuki car are you interested to buy? \\na=Cultus \\nb=Alto \\nc=Ciaz \\nd=WagonR\")\n",
    "        if Suzuki==\"a\":\n",
    "            print(\"have your Cultus\")\n",
    "            rerun=input(\"Are you satisfied with the car? (y/n)\").lower()\n",
    "            if rerun==\"y\":\n",
    "                print(\"Thanks for buying the car!\")\n",
    "                break\n",
    "            else:\n",
    "                print(\"ok then, let me know which car do you want!\")\n",
    "        elif Suzuki==\"b\":\n",
    "            print(\"have your Alto\")\n",
    "            rerun=input(\"Are you satisfied with the car? (y/n)\").lower()\n",
    "            if rerun==\"y\":\n",
    "                print(\"Thanks for buying the car!\")\n",
    "                break\n",
    "            else:\n",
    "                print(\"ok then, let me know which car do you want!\")\n",
    "        elif Suzuki==\"c\":\n",
    "            print(\"have your Ciaz\")\n",
    "            rerun=input(\"Are you satisfied with the car? (y/n)\").lower()\n",
    "            if rerun==\"y\":\n",
    "                print(\"Thanks for buying the car!\")\n",
    "                break\n",
    "            else:\n",
    "                print(\"ok then, let me know which car do you want!\")\n",
    "        elif Suzuki==\"d\":\n",
    "            print(\"have your WagonR\")\n",
    "            rerun=input(\"Are you satisfied with the car? (y/n)\").lower()\n",
    "            if rerun==\"y\":\n",
    "                print(\"Thanks for buying the car!\")\n",
    "                break\n",
    "            else:\n",
    "                print(\"ok then, let me know which car do you want!\")\n",
    "        else:\n",
    "            print(\"invalid input\")\n",
    "    elif company==\"d\":\n",
    "         Nissan=input(\"which Nissan car are you interested to buy? \\na=Days \\nb=Note \\nc=Safari \\nd=Moco\")\n",
    "         if Nissan==\"a\":\n",
    "            print(\"have your Days\")\n",
    "            rerun=input(\"Are you satisfied with the car? (y/n)\").lower()\n",
    "            if rerun==\"y\":\n",
    "                print(\"Thanks for buying the car!\")\n",
    "                break\n",
    "            else:\n",
    "                print(\"ok then, let me know which car do you want!\")\n",
    "         elif Nissan==\"b\":\n",
    "            print(\"have your Note\")\n",
    "            rerun=input(\"Are you satisfied with the car? (y/n)\").lower()\n",
    "            if rerun==\"y\":\n",
    "                print(\"Thanks for buying the car!\")\n",
    "                break\n",
    "            else:\n",
    "                print(\"ok then, let me know which car do you want!\")\n",
    "         elif Nissan==\"c\":\n",
    "            print(\"have your Safari\")\n",
    "            rerun=input(\"Are you satisfied with the car? (y/n)\").lower()\n",
    "            if rerun==\"y\":\n",
    "                print(\"Thanks for buying the car!\")\n",
    "                break\n",
    "            else:\n",
    "                print(\"ok then, let me know which car do you want!\")\n",
    "         elif Nissan==\"d\":\n",
    "            print(\"hae your Moco\")\n",
    "            rerun=input(\"Are you satisfied with the car? (y/n)\").lower()\n",
    "            if rerun==\"y\":\n",
    "                print(\"Thanks for buying the car!\")\n",
    "                break\n",
    "            else:\n",
    "                print(\"ok then, let me know which car do you want!\")\n",
    "else:\n",
    "        print(\"invalid input\")\n",
    "    "
   ]
  },
  {
   "cell_type": "code",
   "execution_count": null,
   "id": "c8d4a8ba-d862-47ef-9b3f-d6f8bb884447",
   "metadata": {},
   "outputs": [],
   "source": []
  }
 ],
 "metadata": {
  "kernelspec": {
   "display_name": "Python 3 (ipykernel)",
   "language": "python",
   "name": "python3"
  },
  "language_info": {
   "codemirror_mode": {
    "name": "ipython",
    "version": 3
   },
   "file_extension": ".py",
   "mimetype": "text/x-python",
   "name": "python",
   "nbconvert_exporter": "python",
   "pygments_lexer": "ipython3",
   "version": "3.13.0"
  }
 },
 "nbformat": 4,
 "nbformat_minor": 5
}
